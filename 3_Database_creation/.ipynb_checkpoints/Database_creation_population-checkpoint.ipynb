{
 "cells": [
  {
   "cell_type": "code",
   "execution_count": 9,
   "metadata": {},
   "outputs": [],
   "source": [
    "import os\n",
    "import sqlite3\n",
    "from sqlite3 import Error\n",
    "import pandas as pd"
   ]
  },
  {
   "cell_type": "code",
   "execution_count": 10,
   "metadata": {},
   "outputs": [],
   "source": [
    "def create_connection(db_file):\n",
    "    \"\"\" create a database connection to the SQLite database specified by db_file\n",
    "    - param db_file: database file\n",
    "    - return: Connection object or None\n",
    "    \"\"\"\n",
    "    conn = None\n",
    "    try:\n",
    "        conn = sqlite3.connect(db_file)\n",
    "        return conn\n",
    "    except Error as e:\n",
    "        print(e)\n",
    " \n",
    "    return conn"
   ]
  },
  {
   "cell_type": "code",
   "execution_count": 15,
   "metadata": {},
   "outputs": [],
   "source": [
    "database_path = os.path.join(\"cataloqueSqlite.db\")\n",
    "catalogues_path = os.path.join(\"..\", \"2_Data_preparation\")\n",
    "\n",
    "# create a database connection\n",
    "connection = create_connection(database_path)"
   ]
  },
  {
   "cell_type": "code",
   "execution_count": 16,
   "metadata": {},
   "outputs": [],
   "source": [
    "# create tables : Method 1\n",
    "df = pd.read_csv(os.path.join(catalogues_path,\"Final_messier_catalogue.csv\"), sep=';', index_col=0)\n",
    "df.to_sql('Messier', connection, if_exists='replace', index=False)\n",
    "\n",
    "df = pd.read_csv(os.path.join(catalogues_path,\"Final_caldwell_catalogue.csv\"), sep=';', index_col=0)\n",
    "df.to_sql('Caldwell', connection, if_exists='replace', index=False)\n",
    "\n",
    "df = pd.read_csv(os.path.join(catalogues_path,\"Herschel400_catalogue_final.csv\"), sep=';', index_col=0)\n",
    "df.to_sql('Herschel400', connection, if_exists='replace', index=False)"
   ]
  },
  {
   "cell_type": "code",
   "execution_count": 17,
   "metadata": {},
   "outputs": [
    {
     "name": "stdout",
     "output_type": "stream",
     "text": [
      "('NGC0040', 'Planetary Nebula', 'Bow-Tie nebula', 'Cep', 'Cepheus', '-', '00:13:01.03', '+72:31:19.0', '0.8', '-', '-', '11', '11.27', '11.89', '10.89', '10.8', '10.38', '-', 'HD 000826,HIP 001041,TYC 4302-01297-1', '11.14', '11.82', '11.58', '-', 'C2', '-', '-', 'C 002,IRAS 00102+7214,PN G120.0+09.8', '-', '-')\n"
     ]
    }
   ],
   "source": [
    "#Access to Database:\n",
    "c = connection.cursor()\n",
    "c.execute('SELECT * FROM Herschel400 WHERE NGC_designation=\"NGC0040\"')\n",
    "print(c.fetchone())"
   ]
  },
  {
   "cell_type": "code",
   "execution_count": 14,
   "metadata": {},
   "outputs": [],
   "source": [
    "connection.close()"
   ]
  }
 ],
 "metadata": {
  "kernelspec": {
   "display_name": "Python 3",
   "language": "python",
   "name": "python3"
  },
  "language_info": {
   "codemirror_mode": {
    "name": "ipython",
    "version": 3
   },
   "file_extension": ".py",
   "mimetype": "text/x-python",
   "name": "python",
   "nbconvert_exporter": "python",
   "pygments_lexer": "ipython3",
   "version": "3.7.6"
  }
 },
 "nbformat": 4,
 "nbformat_minor": 2
}
