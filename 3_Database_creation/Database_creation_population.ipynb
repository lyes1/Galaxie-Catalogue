{
 "cells": [
  {
   "cell_type": "code",
   "execution_count": 1,
   "metadata": {},
   "outputs": [],
   "source": [
    "import os\n",
    "import sqlite3\n",
    "from sqlite3 import Error\n",
    "import pandas as pd"
   ]
  },
  {
   "cell_type": "code",
   "execution_count": 2,
   "metadata": {},
   "outputs": [],
   "source": [
    "def create_connection(db_file):\n",
    "    \"\"\" create a database connection to the SQLite database specified by db_file\n",
    "    - param db_file: database file\n",
    "    - return: Connection object or None\n",
    "    \"\"\"\n",
    "    conn = None\n",
    "    try:\n",
    "        conn = sqlite3.connect(db_file)\n",
    "        return conn\n",
    "    except Error as e:\n",
    "        print(e)\n",
    " \n",
    "    return conn"
   ]
  },
  {
   "cell_type": "code",
   "execution_count": 3,
   "metadata": {},
   "outputs": [],
   "source": [
    "database_path = os.path.join(\"cataloqueSqlite.db\")\n",
    "catalogues_path = os.path.join(\"..\", \"2_Data_preparation\")\n",
    "\n",
    "# create a database connection\n",
    "connection = create_connection(database_path)"
   ]
  },
  {
   "cell_type": "code",
   "execution_count": 4,
   "metadata": {},
   "outputs": [],
   "source": [
    "# create tables : Method 1\n",
    "df = pd.read_csv(os.path.join(catalogues_path,\"Final_messier_catalogue.csv\"), sep=';', index_col=0)\n",
    "df.to_sql('Messier', connection, if_exists='replace', index=False)\n",
    "\n",
    "df = pd.read_csv(os.path.join(catalogues_path,\"Final_caldwell_catalogue.csv\"), sep=';', index_col=0)\n",
    "df.to_sql('Caldwell', connection, if_exists='replace', index=False)\n",
    "\n",
    "df = pd.read_csv(os.path.join(catalogues_path,\"Herschel400_catalogue_final.csv\"), sep=';', index_col=0)\n",
    "df.to_sql('Herschel400', connection, if_exists='replace', index=False)"
   ]
  },
  {
   "cell_type": "code",
   "execution_count": 5,
   "metadata": {},
   "outputs": [
    {
     "name": "stdout",
     "output_type": "stream",
     "text": [
      "('NGC0040', 'Planetary Nebula', 'Bow-Tie nebula', 'Cep', 'Cepheus', None, '00:13:01.03', '+72:31:19.0', 0.8, None, None, '11', 11.27, 11.89, 10.89, 10.8, 10.38, None, 'HD 000826,HIP 001041,TYC 4302-01297-1', 11.14, 11.82, 11.58, None, 'C2', None, None, 'C 002,IRAS 00102+7214,PN G120.0+09.8', None, None)\n"
     ]
    }
   ],
   "source": [
    "#Access to Database:\n",
    "c = connection.cursor()\n",
    "c.execute('SELECT * FROM Herschel400 WHERE NGC_designation=\"NGC0040\"')\n",
    "print(c.fetchone())"
   ]
  },
  {
   "cell_type": "code",
   "execution_count": 6,
   "metadata": {},
   "outputs": [],
   "source": [
    "connection.close()"
   ]
  },
  {
   "cell_type": "code",
   "execution_count": 7,
   "metadata": {},
   "outputs": [],
   "source": [
    "# create tables : Method 2\n",
    "def create_table(conn, create_table_sql, file_path):\n",
    "    \"\"\" create a table from the create_table_sql statement\n",
    "    - param conn: Connection object\n",
    "    - param create_table_sql: a CREATE TABLE statement\n",
    "    - return:\n",
    "    \"\"\"\n",
    "    try:\n",
    "        c = conn.cursor()\n",
    "        c.execute(create_table_sql)\n",
    "    except Error as e:\n",
    "        print(e)\n",
    "\n",
    "sql_create_Messier_table = \"\"\"CREATE TABLE IF NOT EXISTS messier (\n",
    "                                    Messier_number text PRIMARY KEY\n",
    "                                    NGC_IC_designation text                   \n",
    "                                    object_type text                        \n",
    "                                    Common_name text                          \n",
    "                                    Constellation_FR text                      \n",
    "                                    Constellation_EN text                    \n",
    "                                    Constellation_Latin text                  \n",
    "                                    Constelation_abr text                       \n",
    "                                    Constelation_name_abrv  text                \n",
    "                                    Hubble_morphological_type text              \n",
    "                                    Discoverer text                             \n",
    "                                    Year integer                                  \n",
    "                                    Season text                              \n",
    "                                    Right_Ascension text                       \n",
    "                                    Declinaison text                            \n",
    "                                    Distance_light_year integer                  \n",
    "                                    Size text                                  \n",
    "                                    major_axis float                          \n",
    "                                    minor_axis float                        \n",
    "                                    major__axis_position_angle float        \n",
    "                                    Apparent_magnitude_jbcurtin_gitHub float    \n",
    "                                    Magnitude integer                              \n",
    "                                    B_Apparent_Magnitude float                 \n",
    "                                    V_Apparent_Magnitude float                 \n",
    "                                    J_Apparent_Magnitude float                 \n",
    "                                    H_Apparent_Magnitude float                 \n",
    "                                    K_Apparent_Magnitude float                 \n",
    "                                    Mean_surface_brigthness float              \n",
    "                                    Center_star_name text                     \n",
    "                                    center_star_U_maghitude float           \n",
    "                                    center_star_B_maghitude float               \n",
    "                                    center_star_V_maghitude float               \n",
    "                                    Image1 text                               \n",
    "                                    Image2 text                                 \n",
    "                                    image_jbcurtin_gitHub text                 \n",
    "                                    NGC_numner text                             \n",
    "                                    Identifiers text                            \n",
    "                                    NED_notes text                              \n",
    "                                    OpenNGC_notes text\n",
    "                                );\"\"\"\n",
    " \n",
    "\n",
    "#if connection is not None:\n",
    " #   create_table(connection, sql_create_Messier_table)\n",
    "#else:\n",
    " #   print(\"Error! cannot create the database connection.\")\n",
    "# cur = connection.cursor()\n",
    "#with open(catalogue_path,'rb') as fin: # `with` statement available in 2.5+\n",
    "    # csv.DictReader uses first line in file for column headings by default\n",
    "#    dr = csv.DictReader(fin) # comma is default delimiter\n",
    "#    to_db = [(i['col1'], i['col2']) for i in dr]\n",
    "#cur.executemany(\"INSERT INTO t (col1, col2) VALUES (?, ?);\", to_db)\n",
    "#con.commit()\n",
    "#con.close()"
   ]
  }
 ],
 "metadata": {
  "kernelspec": {
   "display_name": "Python 3",
   "language": "python",
   "name": "python3"
  },
  "language_info": {
   "codemirror_mode": {
    "name": "ipython",
    "version": 3
   },
   "file_extension": ".py",
   "mimetype": "text/x-python",
   "name": "python",
   "nbconvert_exporter": "python",
   "pygments_lexer": "ipython3",
   "version": "3.7.6"
  }
 },
 "nbformat": 4,
 "nbformat_minor": 2
}
